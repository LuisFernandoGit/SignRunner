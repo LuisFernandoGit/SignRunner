{
 "cells": [
  {
   "cell_type": "code",
   "execution_count": 1,
   "metadata": {
    "id": "igMyGnjE9hEp"
   },
   "outputs": [],
   "source": [
    "import csv\n",
    "\n",
    "import numpy as np\n",
    "import tensorflow as tf\n",
    "from sklearn.model_selection import train_test_split\n",
    "\n",
    "RANDOM_SEED = 42"
   ]
  },
  {
   "cell_type": "markdown",
   "metadata": {
    "id": "t2HDvhIu9hEr"
   },
   "source": [
    "# Specify each path"
   ]
  },
  {
   "cell_type": "code",
   "execution_count": 2,
   "metadata": {
    "id": "9NvZP2Zn9hEy"
   },
   "outputs": [],
   "source": [
    "dataset = 'model/keypoint_classifier/keypoint.csv'\n",
    "model_save_path = 'model/keypoint_classifier/keypoint_classifier.hdf5'\n",
    "tflite_save_path = 'model/keypoint_classifier/keypoint_classifier.tflite'"
   ]
  },
  {
   "cell_type": "markdown",
   "metadata": {
    "id": "s5oMH7x19hEz"
   },
   "source": [
    "# Set number of classes"
   ]
  },
  {
   "cell_type": "code",
   "execution_count": 3,
   "metadata": {
    "id": "du4kodXL9hEz"
   },
   "outputs": [],
   "source": [
    "NUM_CLASSES = 4"
   ]
  },
  {
   "cell_type": "markdown",
   "metadata": {
    "id": "XjnL0uso9hEz"
   },
   "source": [
    "# Dataset reading"
   ]
  },
  {
   "cell_type": "code",
   "execution_count": 4,
   "metadata": {
    "id": "QT5ZqtEz9hE0"
   },
   "outputs": [],
   "source": [
    "X_dataset = np.loadtxt(dataset, delimiter=',', dtype='float32', usecols=list(range(1, (21 * 2) + 1)))"
   ]
  },
  {
   "cell_type": "code",
   "execution_count": 5,
   "metadata": {
    "id": "QmoKFsp49hE0"
   },
   "outputs": [],
   "source": [
    "y_dataset = np.loadtxt(dataset, delimiter=',', dtype='int32', usecols=(0))"
   ]
  },
  {
   "cell_type": "code",
   "execution_count": 6,
   "metadata": {
    "id": "xQU7JTZ_9hE0"
   },
   "outputs": [],
   "source": [
    "X_train, X_test, y_train, y_test = train_test_split(X_dataset, y_dataset, train_size=0.75, random_state=RANDOM_SEED)"
   ]
  },
  {
   "cell_type": "markdown",
   "metadata": {
    "id": "mxK_lETT9hE0"
   },
   "source": [
    "# Model building"
   ]
  },
  {
   "cell_type": "code",
   "execution_count": 7,
   "metadata": {
    "id": "vHBmUf1t9hE1"
   },
   "outputs": [],
   "source": [
    "model = tf.keras.models.Sequential([\n",
    "    tf.keras.layers.Input((21 * 2, )),\n",
    "    tf.keras.layers.Dropout(0.2),\n",
    "    tf.keras.layers.Dense(20, activation='relu'),\n",
    "    tf.keras.layers.Dropout(0.4),\n",
    "    tf.keras.layers.Dense(10, activation='relu'),\n",
    "    tf.keras.layers.Dense(NUM_CLASSES, activation='softmax')\n",
    "])"
   ]
  },
  {
   "cell_type": "code",
   "execution_count": 8,
   "metadata": {
    "colab": {
     "base_uri": "https://localhost:8080/"
    },
    "id": "ypqky9tc9hE1",
    "outputId": "5db082bb-30e3-4110-bf63-a1ee777ecd46"
   },
   "outputs": [
    {
     "name": "stdout",
     "output_type": "stream",
     "text": [
      "Model: \"sequential\"\n",
      "_________________________________________________________________\n",
      " Layer (type)                Output Shape              Param #   \n",
      "=================================================================\n",
      " dropout (Dropout)           (None, 42)                0         \n",
      "                                                                 \n",
      " dense (Dense)               (None, 20)                860       \n",
      "                                                                 \n",
      " dropout_1 (Dropout)         (None, 20)                0         \n",
      "                                                                 \n",
      " dense_1 (Dense)             (None, 10)                210       \n",
      "                                                                 \n",
      " dense_2 (Dense)             (None, 4)                 44        \n",
      "                                                                 \n",
      "=================================================================\n",
      "Total params: 1,114\n",
      "Trainable params: 1,114\n",
      "Non-trainable params: 0\n",
      "_________________________________________________________________\n"
     ]
    }
   ],
   "source": [
    "model.summary()  # tf.keras.utils.plot_model(model, show_shapes=True)"
   ]
  },
  {
   "cell_type": "code",
   "execution_count": 9,
   "metadata": {
    "id": "MbMjOflQ9hE1"
   },
   "outputs": [],
   "source": [
    "# Model checkpoint callback\n",
    "cp_callback = tf.keras.callbacks.ModelCheckpoint(\n",
    "    model_save_path, verbose=1, save_weights_only=False)\n",
    "# Callback for early stopping\n",
    "es_callback = tf.keras.callbacks.EarlyStopping(patience=20, verbose=1)"
   ]
  },
  {
   "cell_type": "code",
   "execution_count": 10,
   "metadata": {
    "id": "c3Dac0M_9hE2"
   },
   "outputs": [],
   "source": [
    "# Model compilation\n",
    "model.compile(\n",
    "    optimizer='adam',\n",
    "    loss='sparse_categorical_crossentropy',\n",
    "    metrics=['accuracy']\n",
    ")"
   ]
  },
  {
   "cell_type": "markdown",
   "metadata": {
    "id": "7XI0j1Iu9hE2"
   },
   "source": [
    "# Model training"
   ]
  },
  {
   "cell_type": "code",
   "execution_count": 11,
   "metadata": {
    "colab": {
     "base_uri": "https://localhost:8080/"
    },
    "id": "WirBl-JE9hE3",
    "outputId": "71b30ca2-8294-4d9d-8aa2-800d90d399de",
    "scrolled": true
   },
   "outputs": [
    {
     "name": "stdout",
     "output_type": "stream",
     "text": [
      "Epoch 1/1000\n",
      "28/30 [===========================>..] - ETA: 0s - loss: 1.5451 - accuracy: 0.1747 \n",
      "Epoch 1: saving model to model/keypoint_classifier\\keypoint_classifier.hdf5\n",
      "30/30 [==============================] - 1s 9ms/step - loss: 1.5423 - accuracy: 0.1759 - val_loss: 1.3600 - val_accuracy: 0.2707\n",
      "Epoch 2/1000\n",
      " 1/30 [>.............................] - ETA: 0s - loss: 1.4265 - accuracy: 0.2109\n",
      "Epoch 2: saving model to model/keypoint_classifier\\keypoint_classifier.hdf5\n",
      "30/30 [==============================] - 0s 3ms/step - loss: 1.3633 - accuracy: 0.2942 - val_loss: 1.2723 - val_accuracy: 0.4129\n",
      "Epoch 3/1000\n",
      " 1/30 [>.............................] - ETA: 0s - loss: 1.3247 - accuracy: 0.3438\n",
      "Epoch 3: saving model to model/keypoint_classifier\\keypoint_classifier.hdf5\n",
      "30/30 [==============================] - 0s 3ms/step - loss: 1.2900 - accuracy: 0.3628 - val_loss: 1.2093 - val_accuracy: 0.4747\n",
      "Epoch 4/1000\n",
      " 1/30 [>.............................] - ETA: 0s - loss: 1.2512 - accuracy: 0.3984\n",
      "Epoch 4: saving model to model/keypoint_classifier\\keypoint_classifier.hdf5\n",
      "30/30 [==============================] - 0s 3ms/step - loss: 1.2382 - accuracy: 0.3885 - val_loss: 1.1546 - val_accuracy: 0.5076\n",
      "Epoch 5/1000\n",
      " 1/30 [>.............................] - ETA: 0s - loss: 1.1958 - accuracy: 0.4609\n",
      "Epoch 5: saving model to model/keypoint_classifier\\keypoint_classifier.hdf5\n",
      "30/30 [==============================] - 0s 3ms/step - loss: 1.1974 - accuracy: 0.4203 - val_loss: 1.1005 - val_accuracy: 0.5100\n",
      "Epoch 6/1000\n",
      " 1/30 [>.............................] - ETA: 0s - loss: 1.1482 - accuracy: 0.5312\n",
      "Epoch 6: saving model to model/keypoint_classifier\\keypoint_classifier.hdf5\n",
      "30/30 [==============================] - 0s 3ms/step - loss: 1.1459 - accuracy: 0.4592 - val_loss: 1.0371 - val_accuracy: 0.5325\n",
      "Epoch 7/1000\n",
      " 1/30 [>.............................] - ETA: 0s - loss: 1.1822 - accuracy: 0.4453\n",
      "Epoch 7: saving model to model/keypoint_classifier\\keypoint_classifier.hdf5\n",
      "30/30 [==============================] - 0s 3ms/step - loss: 1.1106 - accuracy: 0.4784 - val_loss: 0.9819 - val_accuracy: 0.5759\n",
      "Epoch 8/1000\n",
      " 1/30 [>.............................] - ETA: 0s - loss: 1.1347 - accuracy: 0.4609\n",
      "Epoch 8: saving model to model/keypoint_classifier\\keypoint_classifier.hdf5\n",
      "30/30 [==============================] - 0s 3ms/step - loss: 1.0770 - accuracy: 0.4857 - val_loss: 0.9323 - val_accuracy: 0.6570\n",
      "Epoch 9/1000\n",
      " 1/30 [>.............................] - ETA: 0s - loss: 1.0979 - accuracy: 0.4219\n",
      "Epoch 9: saving model to model/keypoint_classifier\\keypoint_classifier.hdf5\n",
      "30/30 [==============================] - 0s 3ms/step - loss: 1.0312 - accuracy: 0.5261 - val_loss: 0.8759 - val_accuracy: 0.7124\n",
      "Epoch 10/1000\n",
      " 1/30 [>.............................] - ETA: 0s - loss: 0.9994 - accuracy: 0.5703\n",
      "Epoch 10: saving model to model/keypoint_classifier\\keypoint_classifier.hdf5\n",
      "30/30 [==============================] - 0s 3ms/step - loss: 1.0026 - accuracy: 0.5427 - val_loss: 0.8340 - val_accuracy: 0.7398\n",
      "Epoch 11/1000\n",
      " 1/30 [>.............................] - ETA: 0s - loss: 0.9877 - accuracy: 0.5078\n",
      "Epoch 11: saving model to model/keypoint_classifier\\keypoint_classifier.hdf5\n",
      "30/30 [==============================] - 0s 3ms/step - loss: 0.9790 - accuracy: 0.5446 - val_loss: 0.7967 - val_accuracy: 0.7671\n",
      "Epoch 12/1000\n",
      " 1/30 [>.............................] - ETA: 0s - loss: 0.9087 - accuracy: 0.5312\n",
      "Epoch 12: saving model to model/keypoint_classifier\\keypoint_classifier.hdf5\n",
      "30/30 [==============================] - 0s 3ms/step - loss: 0.9339 - accuracy: 0.5756 - val_loss: 0.7610 - val_accuracy: 0.7759\n",
      "Epoch 13/1000\n",
      " 1/30 [>.............................] - ETA: 0s - loss: 0.9153 - accuracy: 0.5781\n",
      "Epoch 13: saving model to model/keypoint_classifier\\keypoint_classifier.hdf5\n",
      "30/30 [==============================] - 0s 3ms/step - loss: 0.9179 - accuracy: 0.5901 - val_loss: 0.7341 - val_accuracy: 0.7863\n",
      "Epoch 14/1000\n",
      " 1/30 [>.............................] - ETA: 0s - loss: 0.9620 - accuracy: 0.5078\n",
      "Epoch 14: saving model to model/keypoint_classifier\\keypoint_classifier.hdf5\n",
      "30/30 [==============================] - 0s 3ms/step - loss: 0.9013 - accuracy: 0.5890 - val_loss: 0.7090 - val_accuracy: 0.7984\n",
      "Epoch 15/1000\n",
      " 1/30 [>.............................] - ETA: 0s - loss: 0.9666 - accuracy: 0.5938\n",
      "Epoch 15: saving model to model/keypoint_classifier\\keypoint_classifier.hdf5\n",
      "30/30 [==============================] - 0s 3ms/step - loss: 0.8858 - accuracy: 0.6139 - val_loss: 0.6786 - val_accuracy: 0.7944\n",
      "Epoch 16/1000\n",
      " 1/30 [>.............................] - ETA: 0s - loss: 0.8031 - accuracy: 0.6406\n",
      "Epoch 16: saving model to model/keypoint_classifier\\keypoint_classifier.hdf5\n",
      "30/30 [==============================] - 0s 3ms/step - loss: 0.8582 - accuracy: 0.6257 - val_loss: 0.6639 - val_accuracy: 0.8096\n",
      "Epoch 17/1000\n",
      " 1/30 [>.............................] - ETA: 0s - loss: 0.8709 - accuracy: 0.5859\n",
      "Epoch 17: saving model to model/keypoint_classifier\\keypoint_classifier.hdf5\n",
      "30/30 [==============================] - 0s 3ms/step - loss: 0.8434 - accuracy: 0.6356 - val_loss: 0.6457 - val_accuracy: 0.8137\n",
      "Epoch 18/1000\n",
      " 1/30 [>.............................] - ETA: 0s - loss: 0.7904 - accuracy: 0.6484\n",
      "Epoch 18: saving model to model/keypoint_classifier\\keypoint_classifier.hdf5\n",
      "30/30 [==============================] - 0s 3ms/step - loss: 0.8259 - accuracy: 0.6541 - val_loss: 0.6198 - val_accuracy: 0.8289\n",
      "Epoch 19/1000\n",
      " 1/30 [>.............................] - ETA: 0s - loss: 0.8155 - accuracy: 0.6328\n",
      "Epoch 19: saving model to model/keypoint_classifier\\keypoint_classifier.hdf5\n",
      "30/30 [==============================] - 0s 3ms/step - loss: 0.7986 - accuracy: 0.6594 - val_loss: 0.6044 - val_accuracy: 0.8265\n",
      "Epoch 20/1000\n",
      " 1/30 [>.............................] - ETA: 0s - loss: 0.7829 - accuracy: 0.6953\n",
      "Epoch 20: saving model to model/keypoint_classifier\\keypoint_classifier.hdf5\n",
      "30/30 [==============================] - 0s 3ms/step - loss: 0.7998 - accuracy: 0.6560 - val_loss: 0.5835 - val_accuracy: 0.8273\n",
      "Epoch 21/1000\n",
      " 1/30 [>.............................] - ETA: 0s - loss: 0.7603 - accuracy: 0.7031\n",
      "Epoch 21: saving model to model/keypoint_classifier\\keypoint_classifier.hdf5\n",
      "30/30 [==============================] - 0s 3ms/step - loss: 0.7898 - accuracy: 0.6768 - val_loss: 0.5743 - val_accuracy: 0.8466\n",
      "Epoch 22/1000\n",
      " 1/30 [>.............................] - ETA: 0s - loss: 0.8060 - accuracy: 0.6562\n",
      "Epoch 22: saving model to model/keypoint_classifier\\keypoint_classifier.hdf5\n",
      "30/30 [==============================] - 0s 3ms/step - loss: 0.7635 - accuracy: 0.6779 - val_loss: 0.5556 - val_accuracy: 0.8498\n",
      "Epoch 23/1000\n",
      " 1/30 [>.............................] - ETA: 0s - loss: 0.8750 - accuracy: 0.5781\n",
      "Epoch 23: saving model to model/keypoint_classifier\\keypoint_classifier.hdf5\n",
      "30/30 [==============================] - 0s 3ms/step - loss: 0.7685 - accuracy: 0.6750 - val_loss: 0.5442 - val_accuracy: 0.8643\n",
      "Epoch 24/1000\n",
      " 1/30 [>.............................] - ETA: 0s - loss: 0.7706 - accuracy: 0.6562\n",
      "Epoch 24: saving model to model/keypoint_classifier\\keypoint_classifier.hdf5\n",
      "30/30 [==============================] - 0s 3ms/step - loss: 0.7699 - accuracy: 0.6809 - val_loss: 0.5291 - val_accuracy: 0.8578\n",
      "Epoch 25/1000\n",
      " 1/30 [>.............................] - ETA: 0s - loss: 0.7616 - accuracy: 0.7188\n",
      "Epoch 25: saving model to model/keypoint_classifier\\keypoint_classifier.hdf5\n",
      "30/30 [==============================] - 0s 3ms/step - loss: 0.7633 - accuracy: 0.6736 - val_loss: 0.5210 - val_accuracy: 0.8651\n",
      "Epoch 26/1000\n",
      " 1/30 [>.............................] - ETA: 0s - loss: 0.7688 - accuracy: 0.7344\n",
      "Epoch 26: saving model to model/keypoint_classifier\\keypoint_classifier.hdf5\n",
      "30/30 [==============================] - 0s 3ms/step - loss: 0.7482 - accuracy: 0.6948 - val_loss: 0.5161 - val_accuracy: 0.8876\n",
      "Epoch 27/1000\n",
      " 1/30 [>.............................] - ETA: 0s - loss: 0.7523 - accuracy: 0.7109\n",
      "Epoch 27: saving model to model/keypoint_classifier\\keypoint_classifier.hdf5\n",
      "30/30 [==============================] - 0s 3ms/step - loss: 0.7532 - accuracy: 0.6940 - val_loss: 0.5084 - val_accuracy: 0.8723\n",
      "Epoch 28/1000\n"
     ]
    },
    {
     "name": "stdout",
     "output_type": "stream",
     "text": [
      " 1/30 [>.............................] - ETA: 0s - loss: 0.6620 - accuracy: 0.7344\n",
      "Epoch 28: saving model to model/keypoint_classifier\\keypoint_classifier.hdf5\n",
      "30/30 [==============================] - 0s 3ms/step - loss: 0.7330 - accuracy: 0.7114 - val_loss: 0.4962 - val_accuracy: 0.9028\n",
      "Epoch 29/1000\n",
      " 1/30 [>.............................] - ETA: 0s - loss: 0.7437 - accuracy: 0.6562\n",
      "Epoch 29: saving model to model/keypoint_classifier\\keypoint_classifier.hdf5\n",
      "30/30 [==============================] - 0s 3ms/step - loss: 0.7113 - accuracy: 0.7143 - val_loss: 0.4835 - val_accuracy: 0.8851\n",
      "Epoch 30/1000\n",
      " 1/30 [>.............................] - ETA: 0s - loss: 0.7419 - accuracy: 0.7031\n",
      "Epoch 30: saving model to model/keypoint_classifier\\keypoint_classifier.hdf5\n",
      "30/30 [==============================] - 0s 3ms/step - loss: 0.7273 - accuracy: 0.7098 - val_loss: 0.4738 - val_accuracy: 0.8892\n",
      "Epoch 31/1000\n",
      " 1/30 [>.............................] - ETA: 0s - loss: 0.6385 - accuracy: 0.7500\n",
      "Epoch 31: saving model to model/keypoint_classifier\\keypoint_classifier.hdf5\n",
      "30/30 [==============================] - 0s 3ms/step - loss: 0.7018 - accuracy: 0.7199 - val_loss: 0.4641 - val_accuracy: 0.8908\n",
      "Epoch 32/1000\n",
      " 1/30 [>.............................] - ETA: 0s - loss: 0.6939 - accuracy: 0.7109\n",
      "Epoch 32: saving model to model/keypoint_classifier\\keypoint_classifier.hdf5\n",
      "30/30 [==============================] - 0s 3ms/step - loss: 0.6948 - accuracy: 0.7197 - val_loss: 0.4563 - val_accuracy: 0.8900\n",
      "Epoch 33/1000\n",
      " 1/30 [>.............................] - ETA: 0s - loss: 0.7559 - accuracy: 0.6641\n",
      "Epoch 33: saving model to model/keypoint_classifier\\keypoint_classifier.hdf5\n",
      "30/30 [==============================] - 0s 3ms/step - loss: 0.6733 - accuracy: 0.7368 - val_loss: 0.4473 - val_accuracy: 0.8859\n",
      "Epoch 34/1000\n",
      " 1/30 [>.............................] - ETA: 0s - loss: 0.6921 - accuracy: 0.7422\n",
      "Epoch 34: saving model to model/keypoint_classifier\\keypoint_classifier.hdf5\n",
      "30/30 [==============================] - 0s 3ms/step - loss: 0.6934 - accuracy: 0.7191 - val_loss: 0.4427 - val_accuracy: 0.8964\n",
      "Epoch 35/1000\n",
      " 1/30 [>.............................] - ETA: 0s - loss: 0.6761 - accuracy: 0.7422\n",
      "Epoch 35: saving model to model/keypoint_classifier\\keypoint_classifier.hdf5\n",
      "30/30 [==============================] - 0s 3ms/step - loss: 0.6721 - accuracy: 0.7299 - val_loss: 0.4378 - val_accuracy: 0.9012\n",
      "Epoch 36/1000\n",
      " 1/30 [>.............................] - ETA: 0s - loss: 0.6797 - accuracy: 0.7031\n",
      "Epoch 36: saving model to model/keypoint_classifier\\keypoint_classifier.hdf5\n",
      "30/30 [==============================] - 0s 3ms/step - loss: 0.6777 - accuracy: 0.7290 - val_loss: 0.4238 - val_accuracy: 0.9060\n",
      "Epoch 37/1000\n",
      " 1/30 [>.............................] - ETA: 0s - loss: 0.6397 - accuracy: 0.7891\n",
      "Epoch 37: saving model to model/keypoint_classifier\\keypoint_classifier.hdf5\n",
      "30/30 [==============================] - 0s 3ms/step - loss: 0.6719 - accuracy: 0.7408 - val_loss: 0.4161 - val_accuracy: 0.9044\n",
      "Epoch 38/1000\n",
      " 1/30 [>.............................] - ETA: 0s - loss: 0.6254 - accuracy: 0.7500\n",
      "Epoch 38: saving model to model/keypoint_classifier\\keypoint_classifier.hdf5\n",
      "30/30 [==============================] - 0s 3ms/step - loss: 0.6522 - accuracy: 0.7430 - val_loss: 0.4132 - val_accuracy: 0.8980\n",
      "Epoch 39/1000\n",
      " 1/30 [>.............................] - ETA: 0s - loss: 0.6618 - accuracy: 0.7734\n",
      "Epoch 39: saving model to model/keypoint_classifier\\keypoint_classifier.hdf5\n",
      "30/30 [==============================] - 0s 3ms/step - loss: 0.6418 - accuracy: 0.7529 - val_loss: 0.4082 - val_accuracy: 0.8972\n",
      "Epoch 40/1000\n",
      " 1/30 [>.............................] - ETA: 0s - loss: 0.6599 - accuracy: 0.7031\n",
      "Epoch 40: saving model to model/keypoint_classifier\\keypoint_classifier.hdf5\n",
      "30/30 [==============================] - 0s 3ms/step - loss: 0.6405 - accuracy: 0.7497 - val_loss: 0.3996 - val_accuracy: 0.9012\n",
      "Epoch 41/1000\n",
      " 1/30 [>.............................] - ETA: 0s - loss: 0.6536 - accuracy: 0.7422\n",
      "Epoch 41: saving model to model/keypoint_classifier\\keypoint_classifier.hdf5\n",
      "30/30 [==============================] - 0s 3ms/step - loss: 0.6340 - accuracy: 0.7537 - val_loss: 0.3897 - val_accuracy: 0.9044\n",
      "Epoch 42/1000\n",
      " 1/30 [>.............................] - ETA: 0s - loss: 0.5704 - accuracy: 0.7812\n",
      "Epoch 42: saving model to model/keypoint_classifier\\keypoint_classifier.hdf5\n",
      "30/30 [==============================] - 0s 3ms/step - loss: 0.6328 - accuracy: 0.7515 - val_loss: 0.3821 - val_accuracy: 0.9092\n",
      "Epoch 43/1000\n",
      " 1/30 [>.............................] - ETA: 0s - loss: 0.6773 - accuracy: 0.6953\n",
      "Epoch 43: saving model to model/keypoint_classifier\\keypoint_classifier.hdf5\n",
      "30/30 [==============================] - 0s 3ms/step - loss: 0.6299 - accuracy: 0.7507 - val_loss: 0.3843 - val_accuracy: 0.9092\n",
      "Epoch 44/1000\n",
      " 1/30 [>.............................] - ETA: 0s - loss: 0.5563 - accuracy: 0.7422\n",
      "Epoch 44: saving model to model/keypoint_classifier\\keypoint_classifier.hdf5\n",
      "30/30 [==============================] - 0s 3ms/step - loss: 0.6198 - accuracy: 0.7539 - val_loss: 0.3775 - val_accuracy: 0.9285\n",
      "Epoch 45/1000\n",
      " 1/30 [>.............................] - ETA: 0s - loss: 0.5763 - accuracy: 0.7812\n",
      "Epoch 45: saving model to model/keypoint_classifier\\keypoint_classifier.hdf5\n",
      "30/30 [==============================] - 0s 3ms/step - loss: 0.6323 - accuracy: 0.7534 - val_loss: 0.3741 - val_accuracy: 0.9133\n",
      "Epoch 46/1000\n",
      " 1/30 [>.............................] - ETA: 0s - loss: 0.6008 - accuracy: 0.7969\n",
      "Epoch 46: saving model to model/keypoint_classifier\\keypoint_classifier.hdf5\n",
      "30/30 [==============================] - 0s 3ms/step - loss: 0.6191 - accuracy: 0.7647 - val_loss: 0.3716 - val_accuracy: 0.9165\n",
      "Epoch 47/1000\n",
      " 1/30 [>.............................] - ETA: 0s - loss: 0.6147 - accuracy: 0.7578\n",
      "Epoch 47: saving model to model/keypoint_classifier\\keypoint_classifier.hdf5\n",
      "30/30 [==============================] - 0s 3ms/step - loss: 0.6171 - accuracy: 0.7572 - val_loss: 0.3657 - val_accuracy: 0.9317\n",
      "Epoch 48/1000\n",
      " 1/30 [>.............................] - ETA: 0s - loss: 0.6220 - accuracy: 0.7344\n",
      "Epoch 48: saving model to model/keypoint_classifier\\keypoint_classifier.hdf5\n",
      "30/30 [==============================] - 0s 3ms/step - loss: 0.6157 - accuracy: 0.7577 - val_loss: 0.3643 - val_accuracy: 0.9293\n",
      "Epoch 49/1000\n",
      " 1/30 [>.............................] - ETA: 0s - loss: 0.5819 - accuracy: 0.7891\n",
      "Epoch 49: saving model to model/keypoint_classifier\\keypoint_classifier.hdf5\n",
      "30/30 [==============================] - 0s 3ms/step - loss: 0.6233 - accuracy: 0.7628 - val_loss: 0.3607 - val_accuracy: 0.9261\n",
      "Epoch 50/1000\n",
      " 1/30 [>.............................] - ETA: 0s - loss: 0.5833 - accuracy: 0.8047\n",
      "Epoch 50: saving model to model/keypoint_classifier\\keypoint_classifier.hdf5\n",
      "30/30 [==============================] - 0s 3ms/step - loss: 0.5845 - accuracy: 0.7636 - val_loss: 0.3576 - val_accuracy: 0.9253\n",
      "Epoch 51/1000\n",
      " 1/30 [>.............................] - ETA: 0s - loss: 0.6314 - accuracy: 0.7578\n",
      "Epoch 51: saving model to model/keypoint_classifier\\keypoint_classifier.hdf5\n",
      "30/30 [==============================] - 0s 3ms/step - loss: 0.5952 - accuracy: 0.7711 - val_loss: 0.3511 - val_accuracy: 0.9269\n",
      "Epoch 52/1000\n",
      " 1/30 [>.............................] - ETA: 0s - loss: 0.5849 - accuracy: 0.7969\n",
      "Epoch 52: saving model to model/keypoint_classifier\\keypoint_classifier.hdf5\n",
      "30/30 [==============================] - 0s 3ms/step - loss: 0.5872 - accuracy: 0.7719 - val_loss: 0.3441 - val_accuracy: 0.9390\n",
      "Epoch 53/1000\n",
      " 1/30 [>.............................] - ETA: 0s - loss: 0.6461 - accuracy: 0.6875\n",
      "Epoch 53: saving model to model/keypoint_classifier\\keypoint_classifier.hdf5\n",
      "30/30 [==============================] - 0s 3ms/step - loss: 0.5835 - accuracy: 0.7647 - val_loss: 0.3479 - val_accuracy: 0.9365\n",
      "Epoch 54/1000\n",
      " 1/30 [>.............................] - ETA: 0s - loss: 0.5083 - accuracy: 0.8281\n",
      "Epoch 54: saving model to model/keypoint_classifier\\keypoint_classifier.hdf5\n",
      "30/30 [==============================] - 0s 3ms/step - loss: 0.5770 - accuracy: 0.7754 - val_loss: 0.3452 - val_accuracy: 0.9309\n",
      "Epoch 55/1000\n"
     ]
    },
    {
     "name": "stdout",
     "output_type": "stream",
     "text": [
      " 1/30 [>.............................] - ETA: 0s - loss: 0.5430 - accuracy: 0.8125\n",
      "Epoch 55: saving model to model/keypoint_classifier\\keypoint_classifier.hdf5\n",
      "30/30 [==============================] - 0s 3ms/step - loss: 0.6051 - accuracy: 0.7708 - val_loss: 0.3467 - val_accuracy: 0.9229\n",
      "Epoch 56/1000\n",
      " 1/30 [>.............................] - ETA: 0s - loss: 0.6311 - accuracy: 0.8281\n",
      "Epoch 56: saving model to model/keypoint_classifier\\keypoint_classifier.hdf5\n",
      "30/30 [==============================] - 0s 4ms/step - loss: 0.5748 - accuracy: 0.7831 - val_loss: 0.3363 - val_accuracy: 0.9390\n",
      "Epoch 57/1000\n",
      "27/30 [==========================>...] - ETA: 0s - loss: 0.5628 - accuracy: 0.7789\n",
      "Epoch 57: saving model to model/keypoint_classifier\\keypoint_classifier.hdf5\n",
      "30/30 [==============================] - 0s 5ms/step - loss: 0.5656 - accuracy: 0.7805 - val_loss: 0.3333 - val_accuracy: 0.9349\n",
      "Epoch 58/1000\n",
      "29/30 [============================>.] - ETA: 0s - loss: 0.5642 - accuracy: 0.7842\n",
      "Epoch 58: saving model to model/keypoint_classifier\\keypoint_classifier.hdf5\n",
      "30/30 [==============================] - 0s 5ms/step - loss: 0.5655 - accuracy: 0.7842 - val_loss: 0.3208 - val_accuracy: 0.9414\n",
      "Epoch 59/1000\n",
      " 1/30 [>.............................] - ETA: 0s - loss: 0.6162 - accuracy: 0.8047\n",
      "Epoch 59: saving model to model/keypoint_classifier\\keypoint_classifier.hdf5\n",
      "30/30 [==============================] - 0s 4ms/step - loss: 0.5798 - accuracy: 0.7799 - val_loss: 0.3258 - val_accuracy: 0.9518\n",
      "Epoch 60/1000\n",
      " 1/30 [>.............................] - ETA: 0s - loss: 0.6185 - accuracy: 0.7188\n",
      "Epoch 60: saving model to model/keypoint_classifier\\keypoint_classifier.hdf5\n",
      "30/30 [==============================] - 0s 3ms/step - loss: 0.5712 - accuracy: 0.7716 - val_loss: 0.3311 - val_accuracy: 0.9357\n",
      "Epoch 61/1000\n",
      "26/30 [=========================>....] - ETA: 0s - loss: 0.5729 - accuracy: 0.7788\n",
      "Epoch 61: saving model to model/keypoint_classifier\\keypoint_classifier.hdf5\n",
      "30/30 [==============================] - 0s 5ms/step - loss: 0.5732 - accuracy: 0.7823 - val_loss: 0.3359 - val_accuracy: 0.9357\n",
      "Epoch 62/1000\n",
      "20/30 [===================>..........] - ETA: 0s - loss: 0.5527 - accuracy: 0.7949\n",
      "Epoch 62: saving model to model/keypoint_classifier\\keypoint_classifier.hdf5\n",
      "30/30 [==============================] - 0s 5ms/step - loss: 0.5592 - accuracy: 0.7885 - val_loss: 0.3258 - val_accuracy: 0.9317\n",
      "Epoch 63/1000\n",
      " 1/30 [>.............................] - ETA: 0s - loss: 0.4732 - accuracy: 0.8594\n",
      "Epoch 63: saving model to model/keypoint_classifier\\keypoint_classifier.hdf5\n",
      "30/30 [==============================] - 0s 3ms/step - loss: 0.5597 - accuracy: 0.7821 - val_loss: 0.3252 - val_accuracy: 0.9390\n",
      "Epoch 64/1000\n",
      " 1/30 [>.............................] - ETA: 0s - loss: 0.4670 - accuracy: 0.8359\n",
      "Epoch 64: saving model to model/keypoint_classifier\\keypoint_classifier.hdf5\n",
      "30/30 [==============================] - 0s 3ms/step - loss: 0.5473 - accuracy: 0.7957 - val_loss: 0.3193 - val_accuracy: 0.9317\n",
      "Epoch 65/1000\n",
      " 1/30 [>.............................] - ETA: 0s - loss: 0.5097 - accuracy: 0.7969\n",
      "Epoch 65: saving model to model/keypoint_classifier\\keypoint_classifier.hdf5\n",
      "30/30 [==============================] - 0s 3ms/step - loss: 0.5501 - accuracy: 0.7815 - val_loss: 0.3230 - val_accuracy: 0.9197\n",
      "Epoch 66/1000\n",
      "15/30 [==============>...............] - ETA: 0s - loss: 0.5297 - accuracy: 0.8016\n",
      "Epoch 66: saving model to model/keypoint_classifier\\keypoint_classifier.hdf5\n",
      "30/30 [==============================] - 0s 5ms/step - loss: 0.5465 - accuracy: 0.7896 - val_loss: 0.3205 - val_accuracy: 0.9285\n",
      "Epoch 67/1000\n",
      " 1/30 [>.............................] - ETA: 0s - loss: 0.4262 - accuracy: 0.8672\n",
      "Epoch 67: saving model to model/keypoint_classifier\\keypoint_classifier.hdf5\n",
      "30/30 [==============================] - 0s 4ms/step - loss: 0.5455 - accuracy: 0.7920 - val_loss: 0.3123 - val_accuracy: 0.9438\n",
      "Epoch 68/1000\n",
      "30/30 [==============================] - ETA: 0s - loss: 0.5435 - accuracy: 0.8016\n",
      "Epoch 68: saving model to model/keypoint_classifier\\keypoint_classifier.hdf5\n",
      "30/30 [==============================] - 0s 4ms/step - loss: 0.5435 - accuracy: 0.8016 - val_loss: 0.3103 - val_accuracy: 0.9446\n",
      "Epoch 69/1000\n",
      " 1/30 [>.............................] - ETA: 0s - loss: 0.5615 - accuracy: 0.7812\n",
      "Epoch 69: saving model to model/keypoint_classifier\\keypoint_classifier.hdf5\n",
      "30/30 [==============================] - 0s 4ms/step - loss: 0.5419 - accuracy: 0.8008 - val_loss: 0.3179 - val_accuracy: 0.9341\n",
      "Epoch 70/1000\n",
      " 1/30 [>.............................] - ETA: 0s - loss: 0.5211 - accuracy: 0.7891\n",
      "Epoch 70: saving model to model/keypoint_classifier\\keypoint_classifier.hdf5\n",
      "30/30 [==============================] - 0s 4ms/step - loss: 0.5378 - accuracy: 0.7901 - val_loss: 0.3081 - val_accuracy: 0.9422\n",
      "Epoch 71/1000\n",
      " 1/30 [>.............................] - ETA: 0s - loss: 0.5363 - accuracy: 0.7969\n",
      "Epoch 71: saving model to model/keypoint_classifier\\keypoint_classifier.hdf5\n",
      "30/30 [==============================] - 0s 4ms/step - loss: 0.5332 - accuracy: 0.7965 - val_loss: 0.3137 - val_accuracy: 0.9454\n",
      "Epoch 72/1000\n",
      "29/30 [============================>.] - ETA: 0s - loss: 0.5531 - accuracy: 0.7936\n",
      "Epoch 72: saving model to model/keypoint_classifier\\keypoint_classifier.hdf5\n",
      "30/30 [==============================] - 0s 5ms/step - loss: 0.5526 - accuracy: 0.7936 - val_loss: 0.3036 - val_accuracy: 0.9398\n",
      "Epoch 73/1000\n",
      " 1/30 [>.............................] - ETA: 0s - loss: 0.5317 - accuracy: 0.7734\n",
      "Epoch 73: saving model to model/keypoint_classifier\\keypoint_classifier.hdf5\n",
      "30/30 [==============================] - 0s 4ms/step - loss: 0.5374 - accuracy: 0.7981 - val_loss: 0.3142 - val_accuracy: 0.9317\n",
      "Epoch 74/1000\n",
      " 1/30 [>.............................] - ETA: 0s - loss: 0.5202 - accuracy: 0.8047\n",
      "Epoch 74: saving model to model/keypoint_classifier\\keypoint_classifier.hdf5\n",
      "30/30 [==============================] - 0s 4ms/step - loss: 0.5478 - accuracy: 0.7909 - val_loss: 0.3129 - val_accuracy: 0.9357\n",
      "Epoch 75/1000\n",
      "28/30 [===========================>..] - ETA: 0s - loss: 0.5505 - accuracy: 0.7882\n",
      "Epoch 75: saving model to model/keypoint_classifier\\keypoint_classifier.hdf5\n",
      "30/30 [==============================] - 0s 4ms/step - loss: 0.5484 - accuracy: 0.7890 - val_loss: 0.3088 - val_accuracy: 0.9382\n",
      "Epoch 76/1000\n",
      " 1/30 [>.............................] - ETA: 0s - loss: 0.5549 - accuracy: 0.8203\n",
      "Epoch 76: saving model to model/keypoint_classifier\\keypoint_classifier.hdf5\n",
      "30/30 [==============================] - 0s 4ms/step - loss: 0.5100 - accuracy: 0.8078 - val_loss: 0.3074 - val_accuracy: 0.9365\n",
      "Epoch 77/1000\n",
      "29/30 [============================>.] - ETA: 0s - loss: 0.5359 - accuracy: 0.8012\n",
      "Epoch 77: saving model to model/keypoint_classifier\\keypoint_classifier.hdf5\n",
      "30/30 [==============================] - 0s 5ms/step - loss: 0.5359 - accuracy: 0.8003 - val_loss: 0.3051 - val_accuracy: 0.9406\n",
      "Epoch 78/1000\n",
      "30/30 [==============================] - ETA: 0s - loss: 0.5270 - accuracy: 0.8011\n",
      "Epoch 78: saving model to model/keypoint_classifier\\keypoint_classifier.hdf5\n",
      "30/30 [==============================] - 0s 4ms/step - loss: 0.5270 - accuracy: 0.8011 - val_loss: 0.3011 - val_accuracy: 0.9462\n",
      "Epoch 79/1000\n",
      "26/30 [=========================>....] - ETA: 0s - loss: 0.5344 - accuracy: 0.7927\n",
      "Epoch 79: saving model to model/keypoint_classifier\\keypoint_classifier.hdf5\n",
      "30/30 [==============================] - 0s 4ms/step - loss: 0.5324 - accuracy: 0.7957 - val_loss: 0.3106 - val_accuracy: 0.9341\n",
      "Epoch 80/1000\n",
      "21/30 [====================>.........] - ETA: 0s - loss: 0.5328 - accuracy: 0.8013\n",
      "Epoch 80: saving model to model/keypoint_classifier\\keypoint_classifier.hdf5\n",
      "30/30 [==============================] - 0s 5ms/step - loss: 0.5266 - accuracy: 0.8059 - val_loss: 0.3057 - val_accuracy: 0.9357\n",
      "Epoch 81/1000\n",
      " 1/30 [>.............................] - ETA: 0s - loss: 0.5138 - accuracy: 0.8125\n",
      "Epoch 81: saving model to model/keypoint_classifier\\keypoint_classifier.hdf5\n",
      "30/30 [==============================] - 0s 4ms/step - loss: 0.5206 - accuracy: 0.8032 - val_loss: 0.3004 - val_accuracy: 0.9277\n",
      "Epoch 82/1000\n"
     ]
    },
    {
     "name": "stdout",
     "output_type": "stream",
     "text": [
      " 1/30 [>.............................] - ETA: 0s - loss: 0.5545 - accuracy: 0.7422\n",
      "Epoch 82: saving model to model/keypoint_classifier\\keypoint_classifier.hdf5\n",
      "30/30 [==============================] - 0s 4ms/step - loss: 0.5257 - accuracy: 0.8094 - val_loss: 0.3059 - val_accuracy: 0.9333\n",
      "Epoch 83/1000\n",
      " 1/30 [>.............................] - ETA: 0s - loss: 0.4459 - accuracy: 0.8438\n",
      "Epoch 83: saving model to model/keypoint_classifier\\keypoint_classifier.hdf5\n",
      "30/30 [==============================] - 0s 4ms/step - loss: 0.5079 - accuracy: 0.8078 - val_loss: 0.3003 - val_accuracy: 0.9277\n",
      "Epoch 84/1000\n",
      " 1/30 [>.............................] - ETA: 0s - loss: 0.5326 - accuracy: 0.8203\n",
      "Epoch 84: saving model to model/keypoint_classifier\\keypoint_classifier.hdf5\n",
      "30/30 [==============================] - 0s 4ms/step - loss: 0.5211 - accuracy: 0.8040 - val_loss: 0.3003 - val_accuracy: 0.9414\n",
      "Epoch 85/1000\n",
      " 1/30 [>.............................] - ETA: 0s - loss: 0.5984 - accuracy: 0.7500\n",
      "Epoch 85: saving model to model/keypoint_classifier\\keypoint_classifier.hdf5\n",
      "30/30 [==============================] - 0s 4ms/step - loss: 0.5326 - accuracy: 0.8043 - val_loss: 0.3074 - val_accuracy: 0.9365\n",
      "Epoch 86/1000\n",
      " 1/30 [>.............................] - ETA: 0s - loss: 0.5722 - accuracy: 0.7656\n",
      "Epoch 86: saving model to model/keypoint_classifier\\keypoint_classifier.hdf5\n",
      "30/30 [==============================] - 0s 4ms/step - loss: 0.5265 - accuracy: 0.8016 - val_loss: 0.3031 - val_accuracy: 0.9333\n",
      "Epoch 87/1000\n",
      " 1/30 [>.............................] - ETA: 0s - loss: 0.4341 - accuracy: 0.8125\n",
      "Epoch 87: saving model to model/keypoint_classifier\\keypoint_classifier.hdf5\n",
      "30/30 [==============================] - 0s 4ms/step - loss: 0.5132 - accuracy: 0.8078 - val_loss: 0.2977 - val_accuracy: 0.9325\n",
      "Epoch 88/1000\n",
      " 1/30 [>.............................] - ETA: 0s - loss: 0.4581 - accuracy: 0.7891\n",
      "Epoch 88: saving model to model/keypoint_classifier\\keypoint_classifier.hdf5\n",
      "30/30 [==============================] - 0s 4ms/step - loss: 0.5170 - accuracy: 0.8016 - val_loss: 0.3021 - val_accuracy: 0.9301\n",
      "Epoch 89/1000\n",
      " 1/30 [>.............................] - ETA: 0s - loss: 0.5441 - accuracy: 0.7812\n",
      "Epoch 89: saving model to model/keypoint_classifier\\keypoint_classifier.hdf5\n",
      "30/30 [==============================] - 0s 5ms/step - loss: 0.5393 - accuracy: 0.7909 - val_loss: 0.2983 - val_accuracy: 0.9373\n",
      "Epoch 90/1000\n",
      " 1/30 [>.............................] - ETA: 0s - loss: 0.5084 - accuracy: 0.7891\n",
      "Epoch 90: saving model to model/keypoint_classifier\\keypoint_classifier.hdf5\n",
      "30/30 [==============================] - 0s 4ms/step - loss: 0.5009 - accuracy: 0.8153 - val_loss: 0.2963 - val_accuracy: 0.9446\n",
      "Epoch 91/1000\n",
      " 1/30 [>.............................] - ETA: 0s - loss: 0.3907 - accuracy: 0.8672\n",
      "Epoch 91: saving model to model/keypoint_classifier\\keypoint_classifier.hdf5\n",
      "30/30 [==============================] - 0s 4ms/step - loss: 0.4913 - accuracy: 0.8206 - val_loss: 0.2953 - val_accuracy: 0.9349\n",
      "Epoch 92/1000\n",
      " 1/30 [>.............................] - ETA: 0s - loss: 0.4858 - accuracy: 0.7891\n",
      "Epoch 92: saving model to model/keypoint_classifier\\keypoint_classifier.hdf5\n",
      "30/30 [==============================] - 0s 4ms/step - loss: 0.4962 - accuracy: 0.8139 - val_loss: 0.2919 - val_accuracy: 0.9365\n",
      "Epoch 93/1000\n",
      " 1/30 [>.............................] - ETA: 0s - loss: 0.5190 - accuracy: 0.8047\n",
      "Epoch 93: saving model to model/keypoint_classifier\\keypoint_classifier.hdf5\n",
      "30/30 [==============================] - 0s 4ms/step - loss: 0.5054 - accuracy: 0.8086 - val_loss: 0.3009 - val_accuracy: 0.9237\n",
      "Epoch 94/1000\n",
      " 1/30 [>.............................] - ETA: 0s - loss: 0.4582 - accuracy: 0.8047\n",
      "Epoch 94: saving model to model/keypoint_classifier\\keypoint_classifier.hdf5\n",
      "30/30 [==============================] - 0s 4ms/step - loss: 0.4916 - accuracy: 0.8169 - val_loss: 0.2954 - val_accuracy: 0.9357\n",
      "Epoch 95/1000\n",
      " 1/30 [>.............................] - ETA: 0s - loss: 0.5006 - accuracy: 0.8594\n",
      "Epoch 95: saving model to model/keypoint_classifier\\keypoint_classifier.hdf5\n",
      "30/30 [==============================] - 0s 5ms/step - loss: 0.4944 - accuracy: 0.8145 - val_loss: 0.2846 - val_accuracy: 0.9446\n",
      "Epoch 96/1000\n",
      " 1/30 [>.............................] - ETA: 0s - loss: 0.5032 - accuracy: 0.8047\n",
      "Epoch 96: saving model to model/keypoint_classifier\\keypoint_classifier.hdf5\n",
      "30/30 [==============================] - 0s 4ms/step - loss: 0.4979 - accuracy: 0.8088 - val_loss: 0.2866 - val_accuracy: 0.9478\n",
      "Epoch 97/1000\n",
      " 1/30 [>.............................] - ETA: 0s - loss: 0.4933 - accuracy: 0.8359\n",
      "Epoch 97: saving model to model/keypoint_classifier\\keypoint_classifier.hdf5\n",
      "30/30 [==============================] - 0s 4ms/step - loss: 0.5095 - accuracy: 0.8086 - val_loss: 0.2960 - val_accuracy: 0.9333\n",
      "Epoch 98/1000\n",
      " 1/30 [>.............................] - ETA: 0s - loss: 0.4601 - accuracy: 0.8359\n",
      "Epoch 98: saving model to model/keypoint_classifier\\keypoint_classifier.hdf5\n",
      "30/30 [==============================] - 0s 4ms/step - loss: 0.4849 - accuracy: 0.8201 - val_loss: 0.2900 - val_accuracy: 0.9357\n",
      "Epoch 99/1000\n",
      " 1/30 [>.............................] - ETA: 0s - loss: 0.5454 - accuracy: 0.7969\n",
      "Epoch 99: saving model to model/keypoint_classifier\\keypoint_classifier.hdf5\n",
      "30/30 [==============================] - 0s 3ms/step - loss: 0.4983 - accuracy: 0.8185 - val_loss: 0.2962 - val_accuracy: 0.9341\n",
      "Epoch 100/1000\n",
      " 1/30 [>.............................] - ETA: 0s - loss: 0.3762 - accuracy: 0.8672\n",
      "Epoch 100: saving model to model/keypoint_classifier\\keypoint_classifier.hdf5\n",
      "30/30 [==============================] - 0s 4ms/step - loss: 0.4942 - accuracy: 0.8201 - val_loss: 0.2954 - val_accuracy: 0.9293\n",
      "Epoch 101/1000\n",
      " 1/30 [>.............................] - ETA: 0s - loss: 0.6232 - accuracy: 0.7812\n",
      "Epoch 101: saving model to model/keypoint_classifier\\keypoint_classifier.hdf5\n",
      "30/30 [==============================] - 0s 4ms/step - loss: 0.5126 - accuracy: 0.8161 - val_loss: 0.2902 - val_accuracy: 0.9365\n",
      "Epoch 102/1000\n",
      " 1/30 [>.............................] - ETA: 0s - loss: 0.5010 - accuracy: 0.8125\n",
      "Epoch 102: saving model to model/keypoint_classifier\\keypoint_classifier.hdf5\n",
      "30/30 [==============================] - 0s 3ms/step - loss: 0.5061 - accuracy: 0.8104 - val_loss: 0.2892 - val_accuracy: 0.9301\n",
      "Epoch 103/1000\n",
      " 1/30 [>.............................] - ETA: 0s - loss: 0.5032 - accuracy: 0.8359\n",
      "Epoch 103: saving model to model/keypoint_classifier\\keypoint_classifier.hdf5\n",
      "30/30 [==============================] - 0s 4ms/step - loss: 0.5043 - accuracy: 0.8104 - val_loss: 0.2905 - val_accuracy: 0.9325\n",
      "Epoch 104/1000\n",
      "28/30 [===========================>..] - ETA: 0s - loss: 0.5140 - accuracy: 0.8047\n",
      "Epoch 104: saving model to model/keypoint_classifier\\keypoint_classifier.hdf5\n",
      "30/30 [==============================] - 0s 4ms/step - loss: 0.5110 - accuracy: 0.8078 - val_loss: 0.2982 - val_accuracy: 0.9253\n",
      "Epoch 105/1000\n",
      " 1/30 [>.............................] - ETA: 0s - loss: 0.5904 - accuracy: 0.7891\n",
      "Epoch 105: saving model to model/keypoint_classifier\\keypoint_classifier.hdf5\n",
      "30/30 [==============================] - 0s 3ms/step - loss: 0.5039 - accuracy: 0.8153 - val_loss: 0.2855 - val_accuracy: 0.9309\n",
      "Epoch 106/1000\n",
      " 1/30 [>.............................] - ETA: 0s - loss: 0.7446 - accuracy: 0.7500\n",
      "Epoch 106: saving model to model/keypoint_classifier\\keypoint_classifier.hdf5\n",
      "30/30 [==============================] - 0s 4ms/step - loss: 0.4997 - accuracy: 0.8139 - val_loss: 0.2968 - val_accuracy: 0.9333\n",
      "Epoch 107/1000\n",
      "25/30 [========================>.....] - ETA: 0s - loss: 0.4702 - accuracy: 0.8294\n",
      "Epoch 107: saving model to model/keypoint_classifier\\keypoint_classifier.hdf5\n",
      "30/30 [==============================] - 0s 5ms/step - loss: 0.4660 - accuracy: 0.8316 - val_loss: 0.2973 - val_accuracy: 0.9285\n",
      "Epoch 108/1000\n",
      "29/30 [============================>.] - ETA: 0s - loss: 0.4886 - accuracy: 0.8198\n",
      "Epoch 108: saving model to model/keypoint_classifier\\keypoint_classifier.hdf5\n",
      "30/30 [==============================] - 0s 4ms/step - loss: 0.4885 - accuracy: 0.8198 - val_loss: 0.2921 - val_accuracy: 0.9365\n",
      "Epoch 109/1000\n"
     ]
    },
    {
     "name": "stdout",
     "output_type": "stream",
     "text": [
      " 1/30 [>.............................] - ETA: 0s - loss: 0.4890 - accuracy: 0.8125\n",
      "Epoch 109: saving model to model/keypoint_classifier\\keypoint_classifier.hdf5\n",
      "30/30 [==============================] - 0s 4ms/step - loss: 0.4841 - accuracy: 0.8174 - val_loss: 0.2956 - val_accuracy: 0.9285\n",
      "Epoch 110/1000\n",
      " 1/30 [>.............................] - ETA: 0s - loss: 0.5898 - accuracy: 0.7812\n",
      "Epoch 110: saving model to model/keypoint_classifier\\keypoint_classifier.hdf5\n",
      "30/30 [==============================] - 0s 4ms/step - loss: 0.4792 - accuracy: 0.8236 - val_loss: 0.2893 - val_accuracy: 0.9333\n",
      "Epoch 111/1000\n",
      " 1/30 [>.............................] - ETA: 0s - loss: 0.4991 - accuracy: 0.7891\n",
      "Epoch 111: saving model to model/keypoint_classifier\\keypoint_classifier.hdf5\n",
      "30/30 [==============================] - 0s 4ms/step - loss: 0.4868 - accuracy: 0.8254 - val_loss: 0.2869 - val_accuracy: 0.9382\n",
      "Epoch 112/1000\n",
      " 1/30 [>.............................] - ETA: 0s - loss: 0.4675 - accuracy: 0.8281\n",
      "Epoch 112: saving model to model/keypoint_classifier\\keypoint_classifier.hdf5\n",
      "30/30 [==============================] - 0s 4ms/step - loss: 0.4675 - accuracy: 0.8246 - val_loss: 0.2900 - val_accuracy: 0.9237\n",
      "Epoch 113/1000\n",
      "30/30 [==============================] - ETA: 0s - loss: 0.4780 - accuracy: 0.8169\n",
      "Epoch 113: saving model to model/keypoint_classifier\\keypoint_classifier.hdf5\n",
      "30/30 [==============================] - 0s 4ms/step - loss: 0.4780 - accuracy: 0.8169 - val_loss: 0.2947 - val_accuracy: 0.9285\n",
      "Epoch 114/1000\n",
      " 1/30 [>.............................] - ETA: 0s - loss: 0.5898 - accuracy: 0.8125\n",
      "Epoch 114: saving model to model/keypoint_classifier\\keypoint_classifier.hdf5\n",
      "30/30 [==============================] - 0s 3ms/step - loss: 0.4807 - accuracy: 0.8236 - val_loss: 0.2823 - val_accuracy: 0.9510\n",
      "Epoch 115/1000\n",
      " 1/30 [>.............................] - ETA: 0s - loss: 0.4452 - accuracy: 0.8203\n",
      "Epoch 115: saving model to model/keypoint_classifier\\keypoint_classifier.hdf5\n",
      "30/30 [==============================] - 0s 3ms/step - loss: 0.4959 - accuracy: 0.8171 - val_loss: 0.2850 - val_accuracy: 0.9317\n",
      "Epoch 116/1000\n",
      " 1/30 [>.............................] - ETA: 0s - loss: 0.6150 - accuracy: 0.7656\n",
      "Epoch 116: saving model to model/keypoint_classifier\\keypoint_classifier.hdf5\n",
      "30/30 [==============================] - 0s 3ms/step - loss: 0.4931 - accuracy: 0.8179 - val_loss: 0.2864 - val_accuracy: 0.9301\n",
      "Epoch 117/1000\n",
      " 1/30 [>.............................] - ETA: 0s - loss: 0.6008 - accuracy: 0.8125\n",
      "Epoch 117: saving model to model/keypoint_classifier\\keypoint_classifier.hdf5\n",
      "30/30 [==============================] - 0s 3ms/step - loss: 0.5019 - accuracy: 0.8129 - val_loss: 0.3008 - val_accuracy: 0.9293\n",
      "Epoch 118/1000\n",
      " 1/30 [>.............................] - ETA: 0s - loss: 0.4091 - accuracy: 0.8828\n",
      "Epoch 118: saving model to model/keypoint_classifier\\keypoint_classifier.hdf5\n",
      "30/30 [==============================] - 0s 6ms/step - loss: 0.4891 - accuracy: 0.8273 - val_loss: 0.2895 - val_accuracy: 0.9301\n",
      "Epoch 119/1000\n",
      " 1/30 [>.............................] - ETA: 0s - loss: 0.5207 - accuracy: 0.7969\n",
      "Epoch 119: saving model to model/keypoint_classifier\\keypoint_classifier.hdf5\n",
      "30/30 [==============================] - 0s 4ms/step - loss: 0.4833 - accuracy: 0.8115 - val_loss: 0.3058 - val_accuracy: 0.9277\n",
      "Epoch 120/1000\n",
      " 1/30 [>.............................] - ETA: 0s - loss: 0.3605 - accuracy: 0.8828\n",
      "Epoch 120: saving model to model/keypoint_classifier\\keypoint_classifier.hdf5\n",
      "30/30 [==============================] - 0s 3ms/step - loss: 0.4662 - accuracy: 0.8262 - val_loss: 0.2953 - val_accuracy: 0.9325\n",
      "Epoch 121/1000\n",
      " 1/30 [>.............................] - ETA: 0s - loss: 0.4784 - accuracy: 0.8359\n",
      "Epoch 121: saving model to model/keypoint_classifier\\keypoint_classifier.hdf5\n",
      "30/30 [==============================] - 0s 3ms/step - loss: 0.4875 - accuracy: 0.8238 - val_loss: 0.2906 - val_accuracy: 0.9317\n",
      "Epoch 122/1000\n",
      " 1/30 [>.............................] - ETA: 0s - loss: 0.5653 - accuracy: 0.8047\n",
      "Epoch 122: saving model to model/keypoint_classifier\\keypoint_classifier.hdf5\n",
      "30/30 [==============================] - 0s 3ms/step - loss: 0.4861 - accuracy: 0.8193 - val_loss: 0.2958 - val_accuracy: 0.9309\n",
      "Epoch 123/1000\n",
      " 1/30 [>.............................] - ETA: 0s - loss: 0.4555 - accuracy: 0.8438\n",
      "Epoch 123: saving model to model/keypoint_classifier\\keypoint_classifier.hdf5\n",
      "30/30 [==============================] - 0s 3ms/step - loss: 0.4772 - accuracy: 0.8212 - val_loss: 0.2926 - val_accuracy: 0.9341\n",
      "Epoch 124/1000\n",
      " 1/30 [>.............................] - ETA: 0s - loss: 0.4543 - accuracy: 0.8359\n",
      "Epoch 124: saving model to model/keypoint_classifier\\keypoint_classifier.hdf5\n",
      "30/30 [==============================] - 0s 3ms/step - loss: 0.4852 - accuracy: 0.8169 - val_loss: 0.2970 - val_accuracy: 0.9333\n",
      "Epoch 125/1000\n",
      " 1/30 [>.............................] - ETA: 0s - loss: 0.4124 - accuracy: 0.8672\n",
      "Epoch 125: saving model to model/keypoint_classifier\\keypoint_classifier.hdf5\n",
      "30/30 [==============================] - 0s 3ms/step - loss: 0.4774 - accuracy: 0.8195 - val_loss: 0.3102 - val_accuracy: 0.9173\n",
      "Epoch 126/1000\n",
      " 1/30 [>.............................] - ETA: 0s - loss: 0.4731 - accuracy: 0.8047\n",
      "Epoch 126: saving model to model/keypoint_classifier\\keypoint_classifier.hdf5\n",
      "30/30 [==============================] - 0s 3ms/step - loss: 0.4930 - accuracy: 0.8123 - val_loss: 0.2991 - val_accuracy: 0.9301\n",
      "Epoch 127/1000\n",
      " 1/30 [>.............................] - ETA: 0s - loss: 0.3683 - accuracy: 0.8828\n",
      "Epoch 127: saving model to model/keypoint_classifier\\keypoint_classifier.hdf5\n",
      "30/30 [==============================] - 0s 3ms/step - loss: 0.4720 - accuracy: 0.8246 - val_loss: 0.2962 - val_accuracy: 0.9277\n",
      "Epoch 128/1000\n",
      " 1/30 [>.............................] - ETA: 0s - loss: 0.3984 - accuracy: 0.8594\n",
      "Epoch 128: saving model to model/keypoint_classifier\\keypoint_classifier.hdf5\n",
      "30/30 [==============================] - 0s 3ms/step - loss: 0.4646 - accuracy: 0.8297 - val_loss: 0.2842 - val_accuracy: 0.9365\n",
      "Epoch 129/1000\n",
      " 1/30 [>.............................] - ETA: 0s - loss: 0.4086 - accuracy: 0.8438\n",
      "Epoch 129: saving model to model/keypoint_classifier\\keypoint_classifier.hdf5\n",
      "30/30 [==============================] - 0s 3ms/step - loss: 0.4801 - accuracy: 0.8115 - val_loss: 0.2890 - val_accuracy: 0.9269\n",
      "Epoch 130/1000\n",
      " 1/30 [>.............................] - ETA: 0s - loss: 0.4718 - accuracy: 0.8125\n",
      "Epoch 130: saving model to model/keypoint_classifier\\keypoint_classifier.hdf5\n",
      "30/30 [==============================] - 0s 3ms/step - loss: 0.4779 - accuracy: 0.8214 - val_loss: 0.2962 - val_accuracy: 0.9333\n",
      "Epoch 131/1000\n",
      " 1/30 [>.............................] - ETA: 0s - loss: 0.5427 - accuracy: 0.7969\n",
      "Epoch 131: saving model to model/keypoint_classifier\\keypoint_classifier.hdf5\n",
      "30/30 [==============================] - 0s 3ms/step - loss: 0.4779 - accuracy: 0.8257 - val_loss: 0.2948 - val_accuracy: 0.9293\n",
      "Epoch 132/1000\n",
      " 1/30 [>.............................] - ETA: 0s - loss: 0.4964 - accuracy: 0.8203\n",
      "Epoch 132: saving model to model/keypoint_classifier\\keypoint_classifier.hdf5\n",
      "30/30 [==============================] - 0s 3ms/step - loss: 0.4826 - accuracy: 0.8220 - val_loss: 0.2878 - val_accuracy: 0.9301\n",
      "Epoch 133/1000\n",
      " 1/30 [>.............................] - ETA: 0s - loss: 0.4966 - accuracy: 0.7891\n",
      "Epoch 133: saving model to model/keypoint_classifier\\keypoint_classifier.hdf5\n",
      "30/30 [==============================] - 0s 3ms/step - loss: 0.4632 - accuracy: 0.8332 - val_loss: 0.2835 - val_accuracy: 0.9357\n",
      "Epoch 134/1000\n",
      " 1/30 [>.............................] - ETA: 0s - loss: 0.5813 - accuracy: 0.8359\n",
      "Epoch 134: saving model to model/keypoint_classifier\\keypoint_classifier.hdf5\n",
      "30/30 [==============================] - 0s 3ms/step - loss: 0.4859 - accuracy: 0.8198 - val_loss: 0.2950 - val_accuracy: 0.9333\n",
      "Epoch 134: early stopping\n"
     ]
    },
    {
     "data": {
      "text/plain": [
       "<keras.callbacks.History at 0x26378ab5d60>"
      ]
     },
     "execution_count": 11,
     "metadata": {},
     "output_type": "execute_result"
    }
   ],
   "source": [
    "model.fit(\n",
    "    X_train,\n",
    "    y_train,\n",
    "    epochs=1000,\n",
    "    batch_size=128,\n",
    "    validation_data=(X_test, y_test),\n",
    "    callbacks=[cp_callback, es_callback]\n",
    ")"
   ]
  },
  {
   "cell_type": "code",
   "execution_count": 12,
   "metadata": {
    "colab": {
     "base_uri": "https://localhost:8080/"
    },
    "id": "pxvb2Y299hE3",
    "outputId": "59eb3185-2e37-4b9e-bc9d-ab1b8ac29b7f"
   },
   "outputs": [
    {
     "name": "stdout",
     "output_type": "stream",
     "text": [
      "10/10 [==============================] - 0s 1ms/step - loss: 0.2950 - accuracy: 0.9333\n"
     ]
    }
   ],
   "source": [
    "# Model evaluation\n",
    "val_loss, val_acc = model.evaluate(X_test, y_test, batch_size=128)"
   ]
  },
  {
   "cell_type": "code",
   "execution_count": 13,
   "metadata": {
    "id": "RBkmDeUW9hE4"
   },
   "outputs": [],
   "source": [
    "# Loading the saved model\n",
    "model = tf.keras.models.load_model(model_save_path)"
   ]
  },
  {
   "cell_type": "code",
   "execution_count": 14,
   "metadata": {
    "colab": {
     "base_uri": "https://localhost:8080/"
    },
    "id": "tFz9Tb0I9hE4",
    "outputId": "1c3b3528-54ae-4ee2-ab04-77429211cbef"
   },
   "outputs": [
    {
     "name": "stdout",
     "output_type": "stream",
     "text": [
      "[6.7861420e-01 9.1391876e-02 6.8559923e-05 2.2992536e-01]\n",
      "0\n"
     ]
    }
   ],
   "source": [
    "# Inference test\n",
    "predict_result = model.predict(np.array([X_test[0]]))\n",
    "print(np.squeeze(predict_result))\n",
    "print(np.argmax(np.squeeze(predict_result)))"
   ]
  },
  {
   "cell_type": "markdown",
   "metadata": {
    "id": "S3U4yNWx9hE4"
   },
   "source": [
    "# Confusion matrix"
   ]
  },
  {
   "cell_type": "code",
   "execution_count": 15,
   "metadata": {
    "colab": {
     "base_uri": "https://localhost:8080/",
     "height": 582
    },
    "id": "AP1V6SCk9hE5",
    "outputId": "08e41a80-7a4a-4619-8125-ecc371368d19"
   },
   "outputs": [
    {
     "data": {
      "image/png": "[encoded data removed]",
      "text/plain": [
       "<Figure size 504x432 with 2 Axes>"
      ]
     },
     "metadata": {
      "needs_background": "light"
     },
     "output_type": "display_data"
    },
    {
     "name": "stdout",
     "output_type": "stream",
     "text": [
      "Classification Report\n",
      "              precision    recall  f1-score   support\n",
      "\n",
      "           0       0.88      0.99      0.93       397\n",
      "           1       0.99      0.93      0.96       373\n",
      "           2       0.93      0.97      0.95       329\n",
      "           3       1.00      0.71      0.83       146\n",
      "\n",
      "    accuracy                           0.93      1245\n",
      "   macro avg       0.95      0.90      0.92      1245\n",
      "weighted avg       0.94      0.93      0.93      1245\n",
      "\n"
     ]
    }
   ],
   "source": [
    "import pandas as pd\n",
    "import seaborn as sns\n",
    "import matplotlib.pyplot as plt\n",
    "from sklearn.metrics import confusion_matrix, classification_report\n",
    "\n",
    "def print_confusion_matrix(y_true, y_pred, report=True):\n",
    "    labels = sorted(list(set(y_true)))\n",
    "    cmx_data = confusion_matrix(y_true, y_pred, labels=labels)\n",
    "    \n",
    "    df_cmx = pd.DataFrame(cmx_data, index=labels, columns=labels)\n",
    " \n",
    "    fig, ax = plt.subplots(figsize=(7, 6))\n",
    "    sns.heatmap(df_cmx, annot=True, fmt='g' ,square=False)\n",
    "    ax.set_ylim(len(set(y_true)), 0)\n",
    "    plt.show()\n",
    "    \n",
    "    if report:\n",
    "        print('Classification Report')\n",
    "        print(classification_report(y_test, y_pred))\n",
    "\n",
    "Y_pred = model.predict(X_test)\n",
    "y_pred = np.argmax(Y_pred, axis=1)\n",
    "\n",
    "print_confusion_matrix(y_test, y_pred)"
   ]
  },
  {
   "cell_type": "markdown",
   "metadata": {
    "id": "FNP6aqzc9hE5"
   },
   "source": [
    "# Convert to model for Tensorflow-Lite"
   ]
  },
  {
   "cell_type": "code",
   "execution_count": 16,
   "metadata": {
    "id": "ODjnYyld9hE6"
   },
   "outputs": [],
   "source": [
    "# Save as a model dedicated to inference\n",
    "model.save(model_save_path, include_optimizer=False)"
   ]
  },
  {
   "cell_type": "code",
   "execution_count": 17,
   "metadata": {
    "colab": {
     "base_uri": "https://localhost:8080/"
    },
    "id": "zRfuK8Y59hE6",
    "outputId": "a4ca585c-b5d5-4244-8291-8674063209bb"
   },
   "outputs": [
    {
     "name": "stdout",
     "output_type": "stream",
     "text": [
      "INFO:tensorflow:Assets written to: C:\\Users\\Kawai\\AppData\\Local\\Temp\\tmp5_pbr1z5\\assets\n"
     ]
    },
    {
     "name": "stderr",
     "output_type": "stream",
     "text": [
      "WARNING:absl:Buffer deduplication procedure will be skipped when flatbuffer library is not properly loaded\n"
     ]
    },
    {
     "data": {
      "text/plain": [
       "6416"
      ]
     },
     "execution_count": 17,
     "metadata": {},
     "output_type": "execute_result"
    }
   ],
   "source": [
    "# Transform model (quantization)\n",
    "\n",
    "converter = tf.lite.TFLiteConverter.from_keras_model(model)\n",
    "converter.optimizations = [tf.lite.Optimize.DEFAULT]\n",
    "tflite_quantized_model = converter.convert()\n",
    "\n",
    "open(tflite_save_path, 'wb').write(tflite_quantized_model)"
   ]
  },
  {
   "cell_type": "markdown",
   "metadata": {
    "id": "CHBPBXdx9hE6"
   },
   "source": [
    "# Inference test"
   ]
  },
  {
   "cell_type": "code",
   "execution_count": 18,
   "metadata": {
    "id": "mGAzLocO9hE7"
   },
   "outputs": [],
   "source": [
    "interpreter = tf.lite.Interpreter(model_path=tflite_save_path)\n",
    "interpreter.allocate_tensors()"
   ]
  },
  {
   "cell_type": "code",
   "execution_count": 19,
   "metadata": {
    "id": "oQuDK8YS9hE7"
   },
   "outputs": [],
   "source": [
    "# Get I / O tensor\n",
    "input_details = interpreter.get_input_details()\n",
    "output_details = interpreter.get_output_details()"
   ]
  },
  {
   "cell_type": "code",
   "execution_count": 20,
   "metadata": {
    "id": "2_ixAf_l9hE7"
   },
   "outputs": [],
   "source": [
    "interpreter.set_tensor(input_details[0]['index'], np.array([X_test[0]]))"
   ]
  },
  {
   "cell_type": "code",
   "execution_count": 21,
   "metadata": {
    "colab": {
     "base_uri": "https://localhost:8080/"
    },
    "id": "s4FoAnuc9hE7",
    "outputId": "91f18257-8d8b-4ef3-c558-e9b5f94fabbf",
    "scrolled": true
   },
   "outputs": [
    {
     "name": "stdout",
     "output_type": "stream",
     "text": [
      "CPU times: total: 0 ns\n",
      "Wall time: 0 ns\n"
     ]
    }
   ],
   "source": [
    "%%time\n",
    "# Inference implementation\n",
    "interpreter.invoke()\n",
    "tflite_results = interpreter.get_tensor(output_details[0]['index'])"
   ]
  },
  {
   "cell_type": "code",
   "execution_count": 22,
   "metadata": {
    "colab": {
     "base_uri": "https://localhost:8080/"
    },
    "id": "vONjp19J9hE8",
    "outputId": "77205e24-fd00-42c4-f7b6-e06e527c2cba"
   },
   "outputs": [
    {
     "name": "stdout",
     "output_type": "stream",
     "text": [
      "[6.7861420e-01 9.1391869e-02 6.8559915e-05 2.2992545e-01]\n",
      "0\n"
     ]
    }
   ],
   "source": [
    "print(np.squeeze(tflite_results))\n",
    "print(np.argmax(np.squeeze(tflite_results)))"
   ]
  }
 ],
 "metadata": {
  "accelerator": "GPU",
  "colab": {
   "collapsed_sections": [],
   "name": "keypoint_classification_EN.ipynb",
   "provenance": [],
   "toc_visible": true
  },
  "kernelspec": {
   "display_name": "Python 3 (ipykernel)",
   "language": "python",
   "name": "python3"
  },
  "language_info": {
   "codemirror_mode": {
    "name": "ipython",
    "version": 3
   },
   "file_extension": ".py",
   "mimetype": "text/x-python",
   "name": "python",
   "nbconvert_exporter": "python",
   "pygments_lexer": "ipython3",
   "version": "3.9.7"
  }
 },
 "nbformat": 4,
 "nbformat_minor": 1
}
